{
  "nbformat": 4,
  "nbformat_minor": 0,
  "metadata": {
    "colab": {
      "name": "DCGAN.ipynb",
      "provenance": [],
      "authorship_tag": "ABX9TyPjuQTdLAq3OvhuKbE3XPVQ",
      "include_colab_link": true
    },
    "kernelspec": {
      "name": "python3",
      "display_name": "Python 3"
    }
  },
  "cells": [
    {
      "cell_type": "markdown",
      "metadata": {
        "id": "view-in-github",
        "colab_type": "text"
      },
      "source": [
        "<a href=\"https://colab.research.google.com/github/jivemachine/DCGAN/blob/main/DCGAN.ipynb\" target=\"_parent\"><img src=\"https://colab.research.google.com/assets/colab-badge.svg\" alt=\"Open In Colab\"/></a>"
      ]
    },
    {
      "cell_type": "markdown",
      "metadata": {
        "id": "cfFjG7q_-uw5"
      },
      "source": [
        "# imports"
      ]
    },
    {
      "cell_type": "code",
      "metadata": {
        "id": "MUTId-2u-sBH"
      },
      "source": [
        "import pandas as pd\n",
        "import numpy as np\n",
        "\n",
        "import matplotlib.pyplot as plt\n",
        "import seaborn as sns\n",
        "\n",
        "import tensorflow as tf\n",
        "from tensorflow import keras"
      ],
      "execution_count": 1,
      "outputs": []
    },
    {
      "cell_type": "code",
      "metadata": {
        "colab": {
          "base_uri": "https://localhost:8080/"
        },
        "id": "-rYFwRfOAoQK",
        "outputId": "542d3897-eebe-4a0f-ece3-20b8bf8d090f"
      },
      "source": [
        "# pulling fashion mnist dataset from keras' dataset library\n",
        "(X_train_full, y_train_full), (X_test, y_test) = keras.datasets.fashion_mnist.load_data()\n",
        "X_train_full = X_train_full.astype(np.float32) / 255 # normalizing train data\n",
        "X_test = X_test.astype(np.float32) / 255 # normalizing test data\n",
        "X_train, X_valid = X_train_full[:-5000], X_train_full[-5000:]\n",
        "y_train, y_valid = y_train_full[:-5000], y_train_full[-5000:]"
      ],
      "execution_count": 2,
      "outputs": [
        {
          "output_type": "stream",
          "text": [
            "Downloading data from https://storage.googleapis.com/tensorflow/tf-keras-datasets/train-labels-idx1-ubyte.gz\n",
            "32768/29515 [=================================] - 0s 0us/step\n",
            "Downloading data from https://storage.googleapis.com/tensorflow/tf-keras-datasets/train-images-idx3-ubyte.gz\n",
            "26427392/26421880 [==============================] - 0s 0us/step\n",
            "Downloading data from https://storage.googleapis.com/tensorflow/tf-keras-datasets/t10k-labels-idx1-ubyte.gz\n",
            "8192/5148 [===============================================] - 0s 0us/step\n",
            "Downloading data from https://storage.googleapis.com/tensorflow/tf-keras-datasets/t10k-images-idx3-ubyte.gz\n",
            "4423680/4422102 [==============================] - 0s 0us/step\n"
          ],
          "name": "stdout"
        }
      ]
    },
    {
      "cell_type": "code",
      "metadata": {
        "id": "7sWyXWQ8AyAv"
      },
      "source": [
        "coding_size = 100\n",
        "# building the generator\n",
        "generator = keras.models.Sequential([\n",
        "  keras.layers.Dense(7 * 7 * 128, input_shape=[coding_size]),\n",
        "  keras.layers.Reshape([7, 7, 128]),\n",
        "  keras.layers.BatchNormalization(),\n",
        "  keras.layers.Conv2DTranspose(1, kernel_size=5, strides=2, padding='same', activation='selu'),\n",
        "  keras.layers.BatchNormalization(),\n",
        "  keras.layers.Conv2DTranspose(1, kernel_size=5, strides=2, padding='same', activation='tanh')              \n",
        "])\n"
      ],
      "execution_count": 5,
      "outputs": []
    },
    {
      "cell_type": "code",
      "metadata": {
        "id": "5zX6s0QeEegi"
      },
      "source": [
        "# building discriminator\n",
        "discriminator = keras.models.Sequential([\n",
        "  keras.layers.Conv2D(64, kernel_size=5, strides=2, padding='same', activation=keras.layers.LeakyReLU(0.2), input_shape=[28, 28, 1]),\n",
        "  keras.layers.Dropout(0.4),\n",
        "  keras.layers.Conv2D(128, kernel_size=5, strides=2, padding='same', activation=keras.layers.LeakyReLU(0.2)),\n",
        "  keras.layers.Dropout(0.4),\n",
        "  keras.layers.Flatten(),\n",
        "  keras.layers.Dense(1, activation='sigmoid')                                                                                    \n",
        "])"
      ],
      "execution_count": 6,
      "outputs": []
    },
    {
      "cell_type": "code",
      "metadata": {
        "id": "0OPE36oWFnnQ"
      },
      "source": [
        "gan = keras.models.Sequential([generator, discriminator])"
      ],
      "execution_count": 7,
      "outputs": []
    },
    {
      "cell_type": "code",
      "metadata": {
        "id": "kh0We-ODGlw6"
      },
      "source": [
        "# compiling the discriminator & the gan\n",
        "discriminator.compile(loss='binary_crossentropy', optimizer=\"rmsprop\")\n",
        "discriminator.trainable=False\n",
        "gan.compile(loss='binary_crossentropy', optimizer='rmsprop')"
      ],
      "execution_count": 8,
      "outputs": []
    },
    {
      "cell_type": "code",
      "metadata": {
        "id": "i9IVuxzEFvPp"
      },
      "source": [
        "# we need to reshape the training data to the same range as the generator\n",
        "X_train = X_train.reshape(-1, 28, 28, 1) * 2. - 1. # reshape & rescale"
      ],
      "execution_count": 9,
      "outputs": []
    },
    {
      "cell_type": "code",
      "metadata": {
        "id": "B5u-20o9HEbC"
      },
      "source": [
        ""
      ],
      "execution_count": null,
      "outputs": []
    }
  ]
}